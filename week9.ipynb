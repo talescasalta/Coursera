#!/usr/bin/env python
# coding: utf-8

# In[4]:


import re
import string


# In[ ]:


def le_assinatura():
    '''A funcao le os valores dos tracos linguisticos do modelo e
    devolve uma assinatura a ser comparada com os textos fornecidos'''
    print("Bem-vindo ao detector automático de COH-PIAH.")

    wal = float(input("Entre o tamanho medio de palavra:"))
    ttr = float(input("Entre a relação Type-Token:"))
    hlr = float(input("Entre a Razão Hapax Legomana:"))
    sal = float(input("Entre o tamanho médio de sentença:"))
    sac = float(input("Entre a complexidade média da sentença:"))
    pal = float(input("Entre o tamanho medio de frase:"))

    return [wal, ttr, hlr, sal, sac, pal]


# In[6]:


def le_textos():
    i = 1
    textos = []
    texto = input("Digite o texto " + str(i) +" (aperte enter para sair):")
    while texto:
        textos.append(texto)
        i += 1
        texto = input("Digite o texto " + str(i) +" (aperte enter para sair):")

    return textos


# In[7]:


def separa_sentencas(texto):
    '''A funcao recebe um texto e devolve uma lista das sentencas dentro do texto'''
    sentencas = re.split(r'[.!?]+', texto)
    if sentencas[-1] == '':
        del sentencas[-1]
    return sentencas


# In[8]:


def separa_frases(texto):
    '''A funcao recebe uma sentenca e devolve uma lista das frases dentro da sentenca'''
    return re.split(r'[,:;]+', texto)


# In[9]:


def separa_palavras(frase):
    '''A funcao recebe uma frase e devolve uma lista das palavras dentro da frase'''
    return frase.split()


# In[10]:


def numero_letras(texto):
    letras = 0
    for itens in texto:
        letras = letras + len(itens)
    return letras


# In[11]:


def n_palavras_unicas(lista_palavras):
    '''Essa funcao recebe uma lista de palavras e devolve o
    numero de palavras que aparecem uma unica vez'''
    freq = dict()
    unicas = 0
    for palavra in lista_palavras:
        p = palavra.lower()
        if p in freq:
            if freq[p] == 1:
                unicas -= 1
            freq[p] += 1
        else:
            freq[p] = 1
            unicas += 1

    return unicas


# In[12]:


def n_palavras_diferentes(lista_palavras):
    '''Essa funcao recebe uma lista de palavras e devolve o
    numero de palavras diferentes utilizadas'''
    freq = dict()
    for palavra in lista_palavras:
        p = palavra.lower()
        if p in freq:
            freq[p] += 1
        else:
            freq[p] = 1

    return len(freq)


# In[ ]:


def calcula_assinatura(texto):

    sentencas = [separa_sentencas(sentencas) for sentencas in texto]
    sentenca = [y for x in sentencas for y in x]

    frases = [separa_frases(frase) for frase in sentenca]
    frase = [y for x in frases for y in x]

    palavras = [separa_palavras(palavra) for palavra in frase]
    palavra = [y for x in palavras for y in x]

    numero_palavras = len(palavra)
    quantidade_letras = numero_letras(palavra)
    quantidade_sentencas = len(sentenca)
    letras_nas_sentencas = numero_letras(sentenca)
    quantidade_frases = len(frase)
    letras_nas_frases = numero_letras(frase)
    tamanho_medio_palavras = (quantidade_letras / numero_palavras)
    type_token = (n_palavras_diferentes(palavra) / numero_palavras)
    hapax = (n_palavras_unicas(palavra) / numero_palavras)
    tamanho_medio_sentencas = (letras_nas_sentencas / quantidade_sentencas)
    complexidade_sentencas = (quantidade_frases / quantidade_sentencas)
    tamanho_medio_frases = (letras_nas_frases / quantidade_frases)
    
    return ([tamanho_medio_palavras, type_token, hapax, tamanho_medio_sentencas, complexidade_sentencas, tamanho_medio_frases])


# In[36]:


def compara_assinatura(as_a, as_b):
    '''IMPLEMENTAR. Essa funcao recebe duas assinaturas de texto e
    deve devolver o grau de similaridade nas assinaturas.'''
    i = 0
    soma_diferenca = 0
    while i < 6:
        soma_diferenca = as_a[i] - as_b[i]
        i = i + 1
    return (soma_diferenca / 6)


# In[39]:


def avalia_textos(textos, ass_cp):
    '''IMPLEMENTAR. Essa funcao recebe uma lista de textos e
    uma assinatura ass_cp e deve devolver o numero (1 a n)
    do texto com maior probabilidade de ter sido infectado por COH-PIAH.'''
    qtd = len(textos)
    i = 0
    indices = []
    while i < qtd:
        a = compara_assinatura(calcula_assinatura(textos[i]), ass_cp)
        indices.append(a)
        i = i + 1
    return (indices.index(min(indices)) + 1)


# In[42]:


ass_cp = le_assinatura()
textos = le_textos()

print("O autor do texto", avalia_textos(textos, ass_cp), "está infectado com COH-PIAH")


# In[ ]:

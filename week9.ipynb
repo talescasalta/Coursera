{
 "cells": [
  {
   "cell_type": "code",
   "execution_count": null,
   "metadata": {},
   "outputs": [],
   "source": [
    "import re\n",
    "\n",
    "def compara_assinatura(as_a, as_b):\n",
    "    '''IMPLEMENTAR. Essa funcao recebe duas assinaturas de texto \n",
    "    e deve devolver o grau de similaridade nas assinaturas.'''\n",
    "    pass\n",
    "\n",
    "def calcula_assinatura(texto):\n",
    "    '''IMPLEMENTAR. Essa funcao recebe um texto e deve devolver a assinatura do texto.'''\n",
    "    pass\n",
    "\n",
    "def avalia_textos(textos, ass_cp):\n",
    "    '''IMPLEMENTAR. Essa funcao recebe uma lista de textos e uma assinatura ass_cp e \n",
    "    deve devolver o numero (1 a n) do texto com maior probabilidade de ter sido infectado por COH-PIAH.'''\n",
    "    pass"
   ]
  },
  {
   "cell_type": "code",
   "execution_count": null,
   "metadata": {},
   "outputs": [],
   "source": [
    "def le_assinatura():\n",
    "    '''A funcao le os valores dos tracos linguisticos do modelo e devolve uma assinatura \n",
    "    a ser comparada com os textos fornecidos'''\n",
    "    print(\"Bem-vindo ao detector automático de COH-PIAH.\")\n",
    "\n",
    "    wal = float(input(\"Entre o tamanho medio de palavra:\"))\n",
    "    ttr = float(input(\"Entre a relação Type-Token:\"))\n",
    "    hlr = float(input(\"Entre a Razão Hapax Legomana:\"))\n",
    "    sal = float(input(\"Entre o tamanho médio de sentença:\"))\n",
    "    sac = float(input(\"Entre a complexidade média da sentença:\"))\n",
    "    pal = float(input(\"Entre o tamanho medio de frase:\"))\n",
    "\n",
    "    return [wal, ttr, hlr, sal, sac, pal]\n"
   ]
  },
  {
   "cell_type": "code",
   "execution_count": null,
   "metadata": {},
   "outputs": [],
   "source": [
    "def le_textos():\n",
    "    i = 1\n",
    "    textos = []\n",
    "    texto = input(\"Digite o texto \" + str(i) +\" (aperte enter para sair):\")\n",
    "    while texto:\n",
    "        textos.append(texto)\n",
    "        i += 1\n",
    "        texto = input(\"Digite o texto \" + str(i) +\" (aperte enter para sair):\")\n",
    "\n",
    "    return textos"
   ]
  },
  {
   "cell_type": "code",
   "execution_count": null,
   "metadata": {},
   "outputs": [],
   "source": [
    "def separa_sentencas(texto):\n",
    "    '''A funcao recebe um texto e devolve uma lista das sentencas dentro do texto'''\n",
    "    sentencas = re.split(r'[.!?]+', texto)\n",
    "    if sentencas[-1] == '':\n",
    "        del sentencas[-1]\n",
    "    return sentencas"
   ]
  },
  {
   "cell_type": "code",
   "execution_count": null,
   "metadata": {},
   "outputs": [],
   "source": [
    "def separa_frases(sentenca):\n",
    "    '''A funcao recebe uma sentenca e devolve uma lista das frases dentro da sentenca'''\n",
    "    return re.split(r'[,:;]+', sentenca)"
   ]
  },
  {
   "cell_type": "code",
   "execution_count": 28,
   "metadata": {},
   "outputs": [
    {
     "data": {
      "text/plain": [
       "['Oi', 'Bom', 'dia', 'Tudo', 'bem', 'Espero', 'que', 'sim', 'haha']"
      ]
     },
     "execution_count": 28,
     "metadata": {},
     "output_type": "execute_result"
    }
   ],
   "source": [
    "import re\n",
    "import string\n",
    "\n",
    "def separa_palavras(frase):\n",
    "    '''A funcao recebe uma frase e devolve uma lista das palavras dentro da frase'''\n",
    "    translator = str.maketrans('', '', string.punctuation) #tira pontuação\n",
    "    \n",
    "    texto_seco = frase.translate(translator)\n",
    "    \n",
    "    return texto_seco.split()\n",
    "\n",
    "texto = [\"Oi. Bom dia! Tudo bem? Espero que sim, haha\",[]]\n",
    "\n",
    "separa_palavras(texto[0])\n",
    "\n",
    "\n"
   ]
  },
  {
   "cell_type": "code",
   "execution_count": 36,
   "metadata": {},
   "outputs": [
    {
     "name": "stdout",
     "output_type": "stream",
     "text": [
      "9\n"
     ]
    },
    {
     "ename": "TypeError",
     "evalue": "'list' object cannot be interpreted as an integer",
     "output_type": "error",
     "traceback": [
      "\u001b[1;31m---------------------------------------------------------------------------\u001b[0m",
      "\u001b[1;31mTypeError\u001b[0m                                 Traceback (most recent call last)",
      "\u001b[1;32m<ipython-input-36-8daf7c43bd41>\u001b[0m in \u001b[0;36m<module>\u001b[1;34m\u001b[0m\n\u001b[0;32m      9\u001b[0m \u001b[1;33m\u001b[0m\u001b[0m\n\u001b[0;32m     10\u001b[0m \u001b[0mtexto\u001b[0m \u001b[1;33m=\u001b[0m \u001b[1;33m[\u001b[0m\u001b[1;34m\"Oi. Bom dia! Tudo bem? Espero que sim, haha\"\u001b[0m\u001b[1;33m,\u001b[0m\u001b[1;33m[\u001b[0m\u001b[1;33m]\u001b[0m\u001b[1;33m]\u001b[0m\u001b[1;33m\u001b[0m\u001b[1;33m\u001b[0m\u001b[0m\n\u001b[1;32m---> 11\u001b[1;33m \u001b[0mtamanho_medio\u001b[0m\u001b[1;33m(\u001b[0m\u001b[0mtexto\u001b[0m\u001b[1;33m[\u001b[0m\u001b[1;36m0\u001b[0m\u001b[1;33m]\u001b[0m\u001b[1;33m)\u001b[0m\u001b[1;33m\u001b[0m\u001b[1;33m\u001b[0m\u001b[0m\n\u001b[0m",
      "\u001b[1;32m<ipython-input-36-8daf7c43bd41>\u001b[0m in \u001b[0;36mtamanho_medio\u001b[1;34m(texto)\u001b[0m\n\u001b[0;32m      5\u001b[0m     \u001b[0mi\u001b[0m \u001b[1;33m=\u001b[0m \u001b[1;36m0\u001b[0m\u001b[1;33m\u001b[0m\u001b[1;33m\u001b[0m\u001b[0m\n\u001b[0;32m      6\u001b[0m     \u001b[1;32mfor\u001b[0m \u001b[0mpalavra\u001b[0m \u001b[1;32min\u001b[0m \u001b[0mtexto_seco\u001b[0m\u001b[1;33m:\u001b[0m\u001b[1;33m\u001b[0m\u001b[1;33m\u001b[0m\u001b[0m\n\u001b[1;32m----> 7\u001b[1;33m         \u001b[0mi\u001b[0m \u001b[1;33m=\u001b[0m \u001b[0mi\u001b[0m \u001b[1;33m+\u001b[0m \u001b[0mlen\u001b[0m\u001b[1;33m(\u001b[0m\u001b[0mrange\u001b[0m\u001b[1;33m(\u001b[0m\u001b[0mtexto_seco\u001b[0m\u001b[1;33m)\u001b[0m\u001b[1;33m)\u001b[0m\u001b[1;33m\u001b[0m\u001b[1;33m\u001b[0m\u001b[0m\n\u001b[0m\u001b[0;32m      8\u001b[0m     \u001b[1;32mreturn\u001b[0m \u001b[0mi\u001b[0m\u001b[1;33m\u001b[0m\u001b[1;33m\u001b[0m\u001b[0m\n\u001b[0;32m      9\u001b[0m \u001b[1;33m\u001b[0m\u001b[0m\n",
      "\u001b[1;31mTypeError\u001b[0m: 'list' object cannot be interpreted as an integer"
     ]
    }
   ],
   "source": [
    "def tamanho_medio(texto):\n",
    "    texto_seco = separa_palavras(texto)\n",
    "    n = len(texto_seco)\n",
    "    print(n)\n",
    "    i = 0\n",
    "    for palavra in texto_seco:\n",
    "        i = i + len(range(texto_seco))\n",
    "    return i\n",
    "    \n",
    "texto = [\"Oi. Bom dia! Tudo bem? Espero que sim, haha\",[]]\n",
    "tamanho_medio(texto[0])"
   ]
  },
  {
   "cell_type": "code",
   "execution_count": null,
   "metadata": {},
   "outputs": [],
   "source": [
    "def n_palavras_unicas(lista_palavras):\n",
    "    '''Essa funcao recebe uma lista de palavras e devolve o numero de palavras que aparecem uma unica vez'''\n",
    "    freq = dict()\n",
    "    unicas = 0\n",
    "    for palavra in lista_palavras:\n",
    "        p = palavra.lower()\n",
    "        if p in freq:\n",
    "            if freq[p] == 1:\n",
    "                unicas -= 1\n",
    "            freq[p] += 1\n",
    "        else:\n",
    "            freq[p] = 1\n",
    "            unicas += 1\n",
    "\n",
    "    return unicas"
   ]
  },
  {
   "cell_type": "code",
   "execution_count": null,
   "metadata": {},
   "outputs": [],
   "source": [
    "def n_palavras_diferentes(lista_palavras):\n",
    "    '''Essa funcao recebe uma lista de palavras e devolve o numero de palavras diferentes utilizadas'''\n",
    "    freq = dict()\n",
    "    for palavra in lista_palavras:\n",
    "        p = palavra.lower()\n",
    "        if p in freq:\n",
    "            freq[p] += 1\n",
    "        else:\n",
    "            freq[p] = 1\n",
    "\n",
    "    return len(freq)"
   ]
  }
 ],
 "metadata": {
  "kernelspec": {
   "display_name": "Python 3",
   "language": "python",
   "name": "python3"
  },
  "language_info": {
   "codemirror_mode": {
    "name": "ipython",
    "version": 3
   },
   "file_extension": ".py",
   "mimetype": "text/x-python",
   "name": "python",
   "nbconvert_exporter": "python",
   "pygments_lexer": "ipython3",
   "version": "3.7.4"
  }
 },
 "nbformat": 4,
 "nbformat_minor": 2
}
